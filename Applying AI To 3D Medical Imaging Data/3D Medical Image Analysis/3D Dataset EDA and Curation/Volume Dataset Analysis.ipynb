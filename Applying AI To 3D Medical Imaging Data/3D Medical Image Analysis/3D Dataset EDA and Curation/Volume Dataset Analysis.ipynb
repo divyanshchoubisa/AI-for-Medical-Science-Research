{
 "cells": [
  {
   "cell_type": "markdown",
   "metadata": {},
   "source": [
    "# Volume Dataset Analysis\n",
    "\n",
    "In this exercise you will be analyzing a DICOM dataset. This dataset is not as conveniently organized on the filesystem as some of the datasets we have seen in the lesson just now. Rather, this dataset looks like somethign that you are likely to get as a raw dump from a clinical data archive.  \n",
    "\n",
    "Your task is to use the skills you have acquired in this lesson to go through this dataset and answer (or provide your best quess to) the following questions:\n",
    "1. What imaging modality was used to produce this dataset?\n",
    "1. Data from how many patients does the dataset include?\n",
    "1. How many studies are in the dataset?\n",
    "1. What is the oldest and most recent study in the dataset?\n",
    "1. How many series are in the dataset?\n",
    "\n",
    "In addition, do the following tasks:\n",
    "\n",
    "1. List voxel dimensions of all 3D volumes (i.e. series) that the dataset contains as WxHxD\n",
    "1. The dataset contains two outliers. Can you find them? Type up why do you think these volumes are outliers."
   ]
  },
  {
   "cell_type": "markdown",
   "metadata": {},
   "source": [
    "<TYPE YOUR ANSWERS HERE>"
   ]
  },
  {
   "cell_type": "code",
   "execution_count": 1,
   "metadata": {},
   "outputs": [],
   "source": [
    "import pydicom\n",
    "import numpy as np\n",
    "import matplotlib.pyplot as plt\n",
    "import os\n",
    "import shutil"
   ]
  },
  {
   "cell_type": "code",
   "execution_count": 2,
   "metadata": {},
   "outputs": [],
   "source": [
    "# Let's use the same code as in the walkthrough to load data\n",
    "\n",
    "path = r\"data\"\n",
    "dirs = np.array([[(os.path.join(dp, f), pydicom.dcmread(os.path.join(dp, f), stop_before_pixels = True)) for f in files]\n",
    "                   for dp,_,files in os.walk(path) if len(files) != 0])"
   ]
  },
  {
   "cell_type": "code",
   "execution_count": 3,
   "metadata": {},
   "outputs": [
    {
     "data": {
      "text/plain": [
       "1"
      ]
     },
     "execution_count": 3,
     "metadata": {},
     "output_type": "execute_result"
    }
   ],
   "source": [
    "# How many directories?\n",
    "\n",
    "len(dirs)"
   ]
  },
  {
   "cell_type": "code",
   "execution_count": 4,
   "metadata": {},
   "outputs": [
    {
     "data": {
      "text/plain": [
       "864"
      ]
     },
     "execution_count": 4,
     "metadata": {},
     "output_type": "execute_result"
    }
   ],
   "source": [
    "instances = dirs[0]\n",
    "len(instances)"
   ]
  },
  {
   "cell_type": "code",
   "execution_count": 5,
   "metadata": {},
   "outputs": [
    {
     "data": {
      "text/plain": [
       "32"
      ]
     },
     "execution_count": 5,
     "metadata": {},
     "output_type": "execute_result"
    }
   ],
   "source": [
    "series_uids = np.unique([inst[1].SeriesInstanceUID for inst in instances])\n",
    "len(series_uids)"
   ]
  },
  {
   "cell_type": "code",
   "execution_count": 6,
   "metadata": {},
   "outputs": [
    {
     "data": {
      "text/plain": [
       "10"
      ]
     },
     "execution_count": 6,
     "metadata": {},
     "output_type": "execute_result"
    }
   ],
   "source": [
    "studies_uids = np.unique([inst[1].StudyInstanceUID for inst in instances])\n",
    "len(studies_uids)"
   ]
  },
  {
   "cell_type": "code",
   "execution_count": 7,
   "metadata": {},
   "outputs": [
    {
     "name": "stdout",
     "output_type": "stream",
     "text": [
      "['PGBM-005', '123456', 'PGBM-005', 'PGBM-005', 'PGBM-003', 'PGBM-003', 'PGBM-005', 'PGBM-003', 'PGBM-004', 'PGBM-009', '123456', 'PGBM-005', '123456', '123456', 'PGBM-005', 'PGBM-009', 'PGBM-005', 'PGBM-003', 'PGBM-009', '123456', '123456', 'OPA135179', 'PGBM-004', 'PGBM-003', 'OPA135179', 'PGBM-003', 'PGBM-003', 'PGBM-009', 'PGBM-005', 'PGBM-009', 'PGBM-004', 'PGBM-004', '123456', '123456', 'PGBM-003', 'PGBM-005', 'PGBM-003', 'PGBM-009', 'PGBM-004', '123456', 'PGBM-005', 'PGBM-004', 'PGBM-009', 'PGBM-004', '123456', 'PGBM-005', 'PGBM-009', 'PGBM-009', 'PGBM-005', 'PGBM-009', 'PGBM-004', 'PGBM-004', '123456', 'PGBM-004', 'PGBM-003', 'PGBM-004', 'PGBM-003', '123456', 'PGBM-009', '123456', 'PGBM-005', 'PGBM-009', 'PGBM-004', 'PGBM-004', 'PGBM-003', 'PGBM-005', 'PGBM-005', 'PGBM-003', 'PGBM-003', 'PGBM-003', 'PGBM-005', 'PGBM-003', 'PGBM-003', 'PGBM-003', 'PGBM-005', 'PGBM-003', 'PGBM-005', 'PGBM-003', 'PGBM-003', 'PGBM-003', 'PGBM-004', 'PGBM-004', 'PGBM-009', 'PGBM-005', 'OPA135179', 'PGBM-009', 'PGBM-004', 'PGBM-004', 'PGBM-003', 'PGBM-003', '123456', 'PGBM-003', 'PGBM-003', 'PGBM-004', 'PGBM-005', 'PGBM-004', 'PGBM-005', 'PGBM-005', 'PGBM-005', 'PGBM-004', 'PGBM-003', 'PGBM-003', 'PGBM-003', 'PGBM-009', 'PGBM-005', 'PGBM-009', 'PGBM-005', 'OPA135179', 'OPA135179', 'PGBM-004', 'OPA135179', 'OPA135179', 'PGBM-003', 'PGBM-005', 'PGBM-004', 'PGBM-009', 'PGBM-009', 'PGBM-005', 'PGBM-009', 'PGBM-009', 'PGBM-003', 'OPA135179', 'PGBM-003', '123456', '123456', 'PGBM-003', 'PGBM-005', 'PGBM-009', 'PGBM-004', 'PGBM-004', 'PGBM-005', '123456', 'PGBM-004', 'PGBM-003', 'PGBM-005', 'PGBM-004', 'PGBM-009', 'OPA135179', 'PGBM-004', 'PGBM-003', 'PGBM-003', 'PGBM-009', 'PGBM-004', 'PGBM-009', 'PGBM-005', 'OPA135179', 'PGBM-005', '123456', 'PGBM-005', 'PGBM-003', 'PGBM-004', '123456', 'PGBM-003', 'PGBM-003', 'PGBM-005', 'PGBM-004', 'PGBM-004', 'OPA135179', 'PGBM-009', 'PGBM-004', 'PGBM-005', 'PGBM-004', 'PGBM-009', 'PGBM-005', 'PGBM-004', 'PGBM-004', 'PGBM-003', 'PGBM-003', 'PGBM-005', 'PGBM-004', '123456', 'OPA135179', '123456', '123456', '123456', 'PGBM-005', 'PGBM-005', '123456', 'PGBM-009', '123456', '123456', 'OPA135179', 'PGBM-004', 'PGBM-005', 'PGBM-004', 'PGBM-003', 'PGBM-005', '123456', 'PGBM-004', 'PGBM-004', 'PGBM-005', '123456', '123456', 'PGBM-004', 'PGBM-003', 'PGBM-004', '123456', 'PGBM-004', 'OPA135179', '123456', '123456', 'PGBM-004', 'PGBM-009', 'PGBM-009', 'PGBM-009', 'PGBM-009', 'PGBM-004', 'PGBM-004', '123456', '123456', '123456', 'PGBM-004', '123456', 'PGBM-005', 'PGBM-005', 'PGBM-009', 'PGBM-004', 'PGBM-009', '123456', 'PGBM-004', 'PGBM-005', 'PGBM-004', 'PGBM-003', '123456', 'PGBM-003', 'PGBM-009', 'PGBM-003', 'PGBM-003', 'PGBM-009', 'PGBM-003', 'PGBM-003', 'PGBM-005', 'PGBM-005', 'PGBM-005', 'PGBM-003', 'PGBM-004', 'PGBM-004', 'PGBM-004', 'PGBM-003', 'PGBM-003', 'PGBM-005', 'PGBM-003', 'PGBM-003', 'PGBM-005', '123456', 'PGBM-004', 'PGBM-003', 'PGBM-009', 'PGBM-004', 'PGBM-004', 'PGBM-009', 'PGBM-005', 'PGBM-009', '123456', 'PGBM-004', 'PGBM-003', 'PGBM-005', 'PGBM-005', 'PGBM-009', 'PGBM-003', 'PGBM-003', 'PGBM-003', '123456', 'PGBM-003', 'PGBM-009', 'PGBM-005', 'PGBM-005', 'PGBM-009', 'PGBM-005', 'PGBM-003', 'OPA135179', '123456', 'PGBM-003', 'PGBM-004', '123456', 'PGBM-009', 'PGBM-003', '123456', 'PGBM-005', 'OPA135179', 'PGBM-004', 'PGBM-009', 'PGBM-005', 'PGBM-003', 'PGBM-004', 'PGBM-004', 'PGBM-009', 'PGBM-003', 'PGBM-005', 'PGBM-009', 'PGBM-003', 'PGBM-005', 'PGBM-003', 'OPA135179', 'PGBM-004', '123456', 'PGBM-004', 'PGBM-004', '123456', 'PGBM-005', 'PGBM-003', 'PGBM-003', '123456', 'PGBM-004', 'PGBM-009', 'PGBM-005', 'PGBM-005', 'PGBM-004', 'PGBM-009', 'PGBM-003', 'PGBM-004', 'PGBM-004', 'PGBM-005', 'PGBM-003', 'PGBM-003', '123456', 'PGBM-004', '123456', '123456', 'PGBM-004', 'PGBM-005', 'PGBM-003', 'PGBM-009', 'PGBM-009', 'PGBM-005', 'OPA135179', 'PGBM-003', 'PGBM-009', 'PGBM-005', 'PGBM-005', 'PGBM-003', 'PGBM-009', '123456', '123456', 'PGBM-005', 'PGBM-003', 'PGBM-009', 'PGBM-004', '123456', 'PGBM-004', 'PGBM-003', 'PGBM-004', 'PGBM-004', 'PGBM-003', 'PGBM-004', 'PGBM-003', 'PGBM-005', 'PGBM-005', 'PGBM-009', 'PGBM-005', 'PGBM-009', 'PGBM-003', 'PGBM-004', 'PGBM-003', 'PGBM-009', '123456', 'PGBM-003', 'PGBM-005', 'PGBM-004', 'PGBM-005', 'PGBM-009', 'PGBM-003', 'PGBM-009', '123456', 'PGBM-003', 'PGBM-005', '123456', 'PGBM-003', 'PGBM-004', 'PGBM-004', '123456', '123456', 'PGBM-004', 'PGBM-004', 'PGBM-005', 'PGBM-003', '123456', 'PGBM-005', '123456', 'PGBM-003', 'PGBM-003', 'PGBM-004', 'PGBM-003', 'PGBM-004', 'PGBM-003', 'PGBM-003', 'PGBM-005', 'PGBM-005', 'PGBM-004', '123456', 'PGBM-004', 'PGBM-009', 'PGBM-004', 'PGBM-004', 'PGBM-003', 'PGBM-003', 'PGBM-005', '123456', 'PGBM-005', 'PGBM-005', 'OPA135179', 'PGBM-004', 'PGBM-009', 'PGBM-004', 'PGBM-004', 'PGBM-009', 'PGBM-009', '123456', 'PGBM-009', 'PGBM-005', 'PGBM-003', 'PGBM-004', 'PGBM-005', 'PGBM-004', '123456', 'PGBM-009', 'PGBM-003', 'PGBM-005', 'PGBM-003', 'PGBM-003', 'PGBM-009', 'PGBM-004', 'PGBM-005', 'PGBM-004', 'PGBM-004', 'PGBM-009', 'PGBM-004', 'PGBM-004', 'PGBM-005', 'PGBM-004', 'PGBM-005', 'PGBM-004', 'PGBM-005', 'PGBM-004', '123456', 'PGBM-005', 'PGBM-009', 'PGBM-009', 'PGBM-003', 'PGBM-005', '123456', 'PGBM-005', 'PGBM-003', 'PGBM-003', 'PGBM-003', 'PGBM-005', 'PGBM-005', '123456', '123456', 'PGBM-005', 'PGBM-005', 'PGBM-005', 'PGBM-005', 'PGBM-004', 'PGBM-005', 'PGBM-009', '123456', '123456', 'PGBM-003', '123456', 'PGBM-009', '123456', 'PGBM-005', 'PGBM-004', '123456', 'PGBM-005', 'OPA135179', 'PGBM-005', '123456', 'PGBM-009', 'PGBM-005', 'PGBM-005', '123456', 'PGBM-003', 'PGBM-003', 'PGBM-003', '123456', 'PGBM-003', 'PGBM-009', 'PGBM-004', 'PGBM-003', 'PGBM-003', 'PGBM-004', 'PGBM-003', 'PGBM-005', 'PGBM-005', '123456', '123456', 'PGBM-003', 'PGBM-003', 'PGBM-009', 'PGBM-009', 'OPA135179', 'PGBM-003', 'PGBM-005', 'PGBM-009', 'PGBM-005', 'PGBM-005', 'PGBM-009', 'PGBM-004', 'PGBM-009', 'PGBM-004', 'PGBM-003', 'PGBM-009', 'PGBM-005', 'PGBM-004', 'PGBM-004', 'PGBM-003', '123456', 'PGBM-005', 'PGBM-009', 'PGBM-004', 'PGBM-004', 'PGBM-005', 'OPA135179', 'PGBM-005', '123456', 'PGBM-004', 'PGBM-003', 'PGBM-005', 'PGBM-009', 'PGBM-009', '123456', 'PGBM-005', 'PGBM-005', 'PGBM-004', 'PGBM-004', 'PGBM-009', '123456', 'PGBM-003', 'PGBM-004', 'PGBM-005', 'PGBM-004', '123456', 'PGBM-005', 'PGBM-005', '123456', '123456', 'PGBM-009', 'PGBM-004', 'PGBM-003', 'PGBM-005', 'PGBM-005', 'PGBM-004', 'PGBM-003', 'PGBM-003', '123456', '123456', 'PGBM-004', 'PGBM-005', 'PGBM-004', 'PGBM-004', 'PGBM-003', 'PGBM-003', 'PGBM-003', 'PGBM-003', 'PGBM-003', 'PGBM-004', 'PGBM-005', 'OPA135179', '123456', '123456', 'PGBM-004', 'PGBM-004', 'PGBM-004', 'OPA135179', 'PGBM-009', 'PGBM-009', '123456', 'PGBM-005', 'PGBM-003', '123456', '123456', 'PGBM-004', 'PGBM-009', 'PGBM-009', 'PGBM-004', 'PGBM-005', 'PGBM-009', 'PGBM-004', 'PGBM-004', '123456', '123456', 'PGBM-005', 'PGBM-003', 'PGBM-004', 'PGBM-004', 'PGBM-009', 'PGBM-009', 'PGBM-004', '123456', 'PGBM-004', 'PGBM-009', 'PGBM-004', '123456', 'PGBM-005', '123456', 'PGBM-009', 'PGBM-009', 'PGBM-003', 'PGBM-005', 'PGBM-004', 'PGBM-003', 'PGBM-005', '123456', 'PGBM-009', 'PGBM-003', 'PGBM-009', 'PGBM-009', 'PGBM-003', '123456', 'PGBM-005', 'PGBM-005', 'PGBM-004', 'PGBM-004', '123456', 'PGBM-003', 'PGBM-009', '123456', '123456', 'PGBM-009', 'PGBM-003', 'PGBM-009', 'PGBM-004', 'PGBM-009', '123456', 'PGBM-005', 'PGBM-009', '123456', 'PGBM-005', 'PGBM-005', 'PGBM-009', 'PGBM-004', 'PGBM-005', 'PGBM-009', 'PGBM-004', 'PGBM-003', 'PGBM-003', 'PGBM-005', 'PGBM-003', 'PGBM-009', 'PGBM-003', '123456', 'PGBM-005', 'OPA135179', 'PGBM-005', 'PGBM-003', 'PGBM-004', 'PGBM-003', 'PGBM-003', '123456', 'PGBM-004', 'PGBM-003', 'OPA135179', 'PGBM-005', 'PGBM-003', 'PGBM-004', '123456', 'PGBM-005', 'PGBM-005', 'PGBM-004', 'PGBM-009', 'PGBM-005', '123456', 'PGBM-009', '123456', 'OPA135179', 'PGBM-004', 'PGBM-004', 'PGBM-004', 'PGBM-003', 'PGBM-004', 'PGBM-009', 'PGBM-003', 'PGBM-009', 'PGBM-004', 'PGBM-005', 'PGBM-004', 'PGBM-004', 'PGBM-005', 'PGBM-003', 'PGBM-003', 'PGBM-005', 'PGBM-009', 'PGBM-009', 'PGBM-003', 'PGBM-009', 'PGBM-005', 'PGBM-009', 'PGBM-003', 'PGBM-005', 'PGBM-009', '123456', '123456', 'PGBM-004', 'PGBM-005', 'PGBM-005', 'PGBM-009', 'PGBM-005', 'PGBM-009', 'PGBM-009', 'PGBM-005', 'PGBM-004', 'PGBM-009', 'OPA135179', 'PGBM-003', '123456', 'PGBM-004', 'PGBM-009', 'PGBM-005', 'PGBM-009', 'PGBM-005', 'PGBM-004', 'PGBM-005', '123456', '123456', 'PGBM-005', 'PGBM-005', 'PGBM-003', 'PGBM-003', 'PGBM-003', 'OPA135179', '123456', 'OPA135179', '123456', 'PGBM-009', 'PGBM-009', 'PGBM-003', '123456', 'PGBM-005', 'PGBM-003', 'PGBM-003', 'PGBM-003', 'PGBM-009', '123456', 'PGBM-005', 'PGBM-005', 'PGBM-005', 'PGBM-009', 'PGBM-003', 'PGBM-003', '123456', 'PGBM-005', 'PGBM-003', 'PGBM-005', '123456', 'PGBM-009', 'PGBM-009', 'PGBM-005', 'PGBM-004', 'PGBM-005', 'PGBM-003', 'PGBM-009', 'PGBM-005', 'PGBM-003', 'PGBM-004', 'PGBM-009', '123456', 'PGBM-004', 'PGBM-004', 'PGBM-003', 'PGBM-003', '123456', 'PGBM-004', 'PGBM-004', 'PGBM-009', 'PGBM-004', 'OPA135179', 'PGBM-005', 'PGBM-003', 'PGBM-004', 'PGBM-003', 'PGBM-003', 'PGBM-009', 'PGBM-009', 'PGBM-005', 'PGBM-003', 'PGBM-003', 'PGBM-005', 'PGBM-003', 'OPA135179', 'PGBM-009', 'PGBM-003', 'PGBM-009', '123456', 'PGBM-004', 'PGBM-003', 'PGBM-005', 'PGBM-004', '123456', '123456', 'PGBM-004', 'PGBM-003', 'PGBM-004', 'PGBM-009', 'PGBM-004', 'PGBM-004', 'PGBM-005', '123456', 'OPA135179', 'PGBM-005', 'PGBM-003', 'PGBM-005', 'PGBM-003', 'PGBM-003', 'PGBM-004', 'PGBM-009', '123456', 'PGBM-004', 'PGBM-004', 'PGBM-009', 'PGBM-009', 'PGBM-004', 'PGBM-009', 'PGBM-003', '123456', 'PGBM-005', 'PGBM-005', 'PGBM-003', 'OPA135179', '123456', 'PGBM-004', '123456', 'PGBM-005', 'PGBM-009', 'PGBM-005', '123456', 'PGBM-003', 'PGBM-004', 'PGBM-005', 'PGBM-005', 'PGBM-004', 'PGBM-004', 'PGBM-004', '123456', 'PGBM-003', 'PGBM-009', 'PGBM-005', 'PGBM-009', '123456', 'PGBM-004', 'PGBM-003', '123456', '123456', 'PGBM-009', 'PGBM-003', 'PGBM-004', 'PGBM-003', 'PGBM-005', '123456', 'PGBM-009', 'PGBM-003', 'OPA135179', 'PGBM-003', 'PGBM-003', 'OPA135179', '123456', '123456', 'PGBM-005', 'PGBM-005', 'PGBM-005', 'PGBM-005', 'PGBM-004', '123456']\n"
     ]
    }
   ],
   "source": [
    "patient_ids = [inst[1].PatientID for inst in instances]\n",
    "print(patient_ids)"
   ]
  },
  {
   "cell_type": "code",
   "execution_count": null,
   "metadata": {},
   "outputs": [],
   "source": []
  },
  {
   "cell_type": "code",
   "execution_count": 8,
   "metadata": {},
   "outputs": [
    {
     "name": "stdout",
     "output_type": "stream",
     "text": [
      "Number of patients: 6, patient IDs: ['123456' 'OPA135179' 'PGBM-003' 'PGBM-004' 'PGBM-005' 'PGBM-009']\n"
     ]
    }
   ],
   "source": [
    "patients_ids_uq = np.unique(patient_ids)\n",
    "print(f\"Number of patients: {len(patients_ids_uq)}, patient IDs: {patients_ids_uq}\")"
   ]
  },
  {
   "cell_type": "code",
   "execution_count": 9,
   "metadata": {},
   "outputs": [],
   "source": [
    "# Create hash of all modalities for individual series\n",
    "\n",
    "series_uids_modality_map = {uid: s[1].Modality for uid in series_uids for s in instances if s[1].SeriesInstanceUID == uid }"
   ]
  },
  {
   "cell_type": "code",
   "execution_count": 10,
   "metadata": {},
   "outputs": [
    {
     "data": {
      "text/plain": [
       "{'1.2.826.0.1.3680043.2.1125.1.45859137663006505718300393375464286': 'CT',\n",
       " '1.3.12.2.1107.5.2.33.37105.2015011616025092819028166.0.0.0': 'MR',\n",
       " '1.3.6.1.4.1.14519.5.2.1.4429.7055.105521800202421035670670758706': 'MR',\n",
       " '1.3.6.1.4.1.14519.5.2.1.4429.7055.108708982094690934070899838243': 'MR',\n",
       " '1.3.6.1.4.1.14519.5.2.1.4429.7055.111299569371716382165219422799': 'MR',\n",
       " '1.3.6.1.4.1.14519.5.2.1.4429.7055.131971402732874033229609248302': 'MR',\n",
       " '1.3.6.1.4.1.14519.5.2.1.4429.7055.137802635701410656176169562528': 'MR',\n",
       " '1.3.6.1.4.1.14519.5.2.1.4429.7055.148342356080268980546237840587': 'MR',\n",
       " '1.3.6.1.4.1.14519.5.2.1.4429.7055.149455479236394071679725178532': 'MR',\n",
       " '1.3.6.1.4.1.14519.5.2.1.4429.7055.158869091666854803918782490935': 'MR',\n",
       " '1.3.6.1.4.1.14519.5.2.1.4429.7055.165843183220097757648432257390': 'MR',\n",
       " '1.3.6.1.4.1.14519.5.2.1.4429.7055.167613564536106399232524912048': 'MR',\n",
       " '1.3.6.1.4.1.14519.5.2.1.4429.7055.170099978014836890431312652906': 'MR',\n",
       " '1.3.6.1.4.1.14519.5.2.1.4429.7055.201921745402287812448748810010': 'MR',\n",
       " '1.3.6.1.4.1.14519.5.2.1.4429.7055.211130119213590294311880514408': 'MR',\n",
       " '1.3.6.1.4.1.14519.5.2.1.4429.7055.214279913601315478068344395213': 'MR',\n",
       " '1.3.6.1.4.1.14519.5.2.1.4429.7055.223133215495128411564518210326': 'MR',\n",
       " '1.3.6.1.4.1.14519.5.2.1.4429.7055.231116285499203734317125269666': 'MR',\n",
       " '1.3.6.1.4.1.14519.5.2.1.4429.7055.249332750522009823872986282200': 'MR',\n",
       " '1.3.6.1.4.1.14519.5.2.1.4429.7055.250698293053013179878447218670': 'MR',\n",
       " '1.3.6.1.4.1.14519.5.2.1.4429.7055.276770677201759689184680286476': 'MR',\n",
       " '1.3.6.1.4.1.14519.5.2.1.4429.7055.283146136537679072065477030736': 'MR',\n",
       " '1.3.6.1.4.1.14519.5.2.1.4429.7055.285581607999649001090869568979': 'MR',\n",
       " '1.3.6.1.4.1.14519.5.2.1.4429.7055.290881399408626464415134513575': 'MR',\n",
       " '1.3.6.1.4.1.14519.5.2.1.4429.7055.292260123189044684287428848596': 'MR',\n",
       " '1.3.6.1.4.1.14519.5.2.1.4429.7055.293816446347585254079913156086': 'MR',\n",
       " '1.3.6.1.4.1.14519.5.2.1.4429.7055.295423364175091911131452091831': 'MR',\n",
       " '1.3.6.1.4.1.14519.5.2.1.4429.7055.338954569012020140657951382116': 'MR',\n",
       " '1.3.6.1.4.1.14519.5.2.1.4429.7055.728364200801418237396977783812': 'MR',\n",
       " '1.3.6.1.4.1.14519.5.2.1.4429.7055.732954519300668202085572772042': 'MR',\n",
       " '1.3.6.1.4.1.14519.5.2.1.4429.7055.874630167789792163807785802052': 'MR',\n",
       " '1.3.6.1.4.1.14519.5.2.1.4429.7055.951760044234185587156102946949': 'MR'}"
      ]
     },
     "execution_count": 10,
     "metadata": {},
     "output_type": "execute_result"
    }
   ],
   "source": [
    "series_uids_modality_map"
   ]
  },
  {
   "cell_type": "code",
   "execution_count": null,
   "metadata": {},
   "outputs": [],
   "source": []
  },
  {
   "cell_type": "code",
   "execution_count": 11,
   "metadata": {},
   "outputs": [],
   "source": [
    "# First, load the pixel data - remember that we didn't load it for the sake of speed\n",
    "\n",
    "slices_ct = [pydicom.dcmread(inst[0]) for inst in instances \\\n",
    "             if inst[1].SeriesInstanceUID == \"1.2.826.0.1.3680043.2.1125.1.45859137663006505718300393375464286\"]\n",
    "\n",
    "slices_mr1 = [pydicom.dcmread(inst[0]) for inst in instances \\\n",
    "             if inst[1].SeriesInstanceUID == list(series_uids_modality_map.items())[4][0]]\n",
    "\n",
    "slices_mr2 = [pydicom.dcmread(inst[0]) for inst in instances \\\n",
    "             if inst[1].SeriesInstanceUID == list(series_uids_modality_map.items())[9][0]]"
   ]
  },
  {
   "cell_type": "code",
   "execution_count": 12,
   "metadata": {},
   "outputs": [
    {
     "data": {
      "text/plain": [
       "<matplotlib.image.AxesImage at 0x7f2630f01750>"
      ]
     },
     "execution_count": 12,
     "metadata": {},
     "output_type": "execute_result"
    },
    {
     "data": {
      "image/png": "[encoded data removed]",
      "text/plain": [
       "<Figure size 432x288 with 1 Axes>"
      ]
     },
     "metadata": {
      "needs_background": "light"
     },
     "output_type": "display_data"
    }
   ],
   "source": [
    "plt.imshow(slices_ct[10].pixel_array, cmap=\"gray\")"
   ]
  },
  {
   "cell_type": "code",
   "execution_count": 13,
   "metadata": {},
   "outputs": [
    {
     "data": {
      "text/plain": [
       "<matplotlib.image.AxesImage at 0x7f2630e58210>"
      ]
     },
     "execution_count": 13,
     "metadata": {},
     "output_type": "execute_result"
    },
    {
     "data": {
      "image/png": "[encoded data removed]",
      "text/plain": [
       "<Figure size 432x288 with 1 Axes>"
      ]
     },
     "metadata": {
      "needs_background": "light"
     },
     "output_type": "display_data"
    }
   ],
   "source": [
    "plt.imshow(slices_mr1[10].pixel_array, cmap=\"gray\")"
   ]
  },
  {
   "cell_type": "code",
   "execution_count": 14,
   "metadata": {},
   "outputs": [
    {
     "data": {
      "text/plain": [
       "<matplotlib.image.AxesImage at 0x7f2630dc6510>"
      ]
     },
     "execution_count": 14,
     "metadata": {},
     "output_type": "execute_result"
    },
    {
     "data": {
      "image/png": "[encoded data removed]",
      "text/plain": [
       "<Figure size 432x288 with 1 Axes>"
      ]
     },
     "metadata": {
      "needs_background": "light"
     },
     "output_type": "display_data"
    }
   ],
   "source": [
    "plt.imshow(slices_mr2[10].pixel_array, cmap=\"gray\")"
   ]
  },
  {
   "cell_type": "code",
   "execution_count": 15,
   "metadata": {},
   "outputs": [
    {
     "data": {
      "text/plain": [
       "['19880512',\n",
       " '19910103',\n",
       " '19910702',\n",
       " '19920505',\n",
       " '19930622',\n",
       " '19940112',\n",
       " '19950329',\n",
       " '19951017',\n",
       " '20150116',\n",
       " '20190101']"
      ]
     },
     "execution_count": 15,
     "metadata": {},
     "output_type": "execute_result"
    }
   ],
   "source": [
    "study_dates = sorted(np.unique([inst[1].StudyDate for inst in instances]))\n",
    "study_dates"
   ]
  },
  {
   "cell_type": "code",
   "execution_count": 16,
   "metadata": {},
   "outputs": [
    {
     "name": "stdout",
     "output_type": "stream",
     "text": [
      "['20190101']\n"
     ]
    }
   ],
   "source": [
    "print(np.unique([inst[1].StudyDate for inst in instances if inst[1].Modality == \"CT\"]))"
   ]
  },
  {
   "cell_type": "code",
   "execution_count": 18,
   "metadata": {},
   "outputs": [],
   "source": [
    "slices_odd_mr = [pydicom.dcmread(inst[0]) for inst in instances \\\n",
    "             if inst[1].StudyDate == \"20150116\"]"
   ]
  },
  {
   "cell_type": "code",
   "execution_count": 19,
   "metadata": {},
   "outputs": [
    {
     "name": "stdout",
     "output_type": "stream",
     "text": [
      "['1.3.12.2.1107.5.2.33.37105.2015011616025092819028166.0.0.0']\n",
      "36\n"
     ]
    }
   ],
   "source": [
    "# Let's check how many series we have in this study:\n",
    "\n",
    "print(np.unique([s.SeriesInstanceUID for s in slices_odd_mr]))\n",
    "print(len(slices_odd_mr))"
   ]
  },
  {
   "cell_type": "code",
   "execution_count": null,
   "metadata": {},
   "outputs": [],
   "source": []
  },
  {
   "cell_type": "code",
   "execution_count": 20,
   "metadata": {},
   "outputs": [
    {
     "data": {
      "text/plain": [
       "<matplotlib.image.AxesImage at 0x7f2630b34150>"
      ]
     },
     "execution_count": 20,
     "metadata": {},
     "output_type": "execute_result"
    },
    {
     "data": {
      "image/png": "[encoded data removed]",
      "text/plain": [
       "<Figure size 432x288 with 1 Axes>"
      ]
     },
     "metadata": {
      "needs_background": "light"
     },
     "output_type": "display_data"
    }
   ],
   "source": [
    "plt.imshow(slices_odd_mr[15].pixel_array, cmap=\"gray\")"
   ]
  },
  {
   "cell_type": "code",
   "execution_count": 21,
   "metadata": {},
   "outputs": [],
   "source": [
    "volumes = dict()\n",
    "\n",
    "for inst in instances:\n",
    "    sid = inst[1].SeriesInstanceUID\n",
    "    if (sid not in volumes):\n",
    "        volumes[sid] = dict()\n",
    "        \n",
    "    volumes[sid][\"StudyDate\"] = inst[1].StudyDate\n",
    "    volumes[sid][\"Width\"] = inst[1].Columns\n",
    "    volumes[sid][\"Height\"] = inst[1].Rows\n",
    "    volumes[sid][\"PatientId\"] = inst[1].PatientID\n",
    "    \n",
    "    if (\"slice_count\" not in volumes[sid]):\n",
    "        volumes[sid][\"slice_count\"] = 0\n",
    "    else:\n",
    "        volumes[sid][\"slice_count\"] += 1"
   ]
  },
  {
   "cell_type": "code",
   "execution_count": 22,
   "metadata": {},
   "outputs": [
    {
     "data": {
      "text/plain": [
       "{'1.3.6.1.4.1.14519.5.2.1.4429.7055.167613564536106399232524912048': {'StudyDate': '19910702',\n",
       "  'Width': 260,\n",
       "  'Height': 320,\n",
       "  'PatientId': 'PGBM-005',\n",
       "  'slice_count': 23},\n",
       " '1.2.826.0.1.3680043.2.1125.1.45859137663006505718300393375464286': {'StudyDate': '20190101',\n",
       "  'Width': 512,\n",
       "  'Height': 512,\n",
       "  'PatientId': '123456',\n",
       "  'slice_count': 138},\n",
       " '1.3.6.1.4.1.14519.5.2.1.4429.7055.292260123189044684287428848596': {'StudyDate': '19910702',\n",
       "  'Width': 260,\n",
       "  'Height': 320,\n",
       "  'PatientId': 'PGBM-005',\n",
       "  'slice_count': 23},\n",
       " '1.3.6.1.4.1.14519.5.2.1.4429.7055.105521800202421035670670758706': {'StudyDate': '19950329',\n",
       "  'Width': 280,\n",
       "  'Height': 320,\n",
       "  'PatientId': 'PGBM-003',\n",
       "  'slice_count': 21},\n",
       " '1.3.6.1.4.1.14519.5.2.1.4429.7055.170099978014836890431312652906': {'StudyDate': '19950329',\n",
       "  'Width': 280,\n",
       "  'Height': 320,\n",
       "  'PatientId': 'PGBM-003',\n",
       "  'slice_count': 21},\n",
       " '1.3.6.1.4.1.14519.5.2.1.4429.7055.108708982094690934070899838243': {'StudyDate': '19920505',\n",
       "  'Width': 280,\n",
       "  'Height': 320,\n",
       "  'PatientId': 'PGBM-005',\n",
       "  'slice_count': 21},\n",
       " '1.3.6.1.4.1.14519.5.2.1.4429.7055.951760044234185587156102946949': {'StudyDate': '19951017',\n",
       "  'Width': 512,\n",
       "  'Height': 512,\n",
       "  'PatientId': 'PGBM-003',\n",
       "  'slice_count': 23},\n",
       " '1.3.6.1.4.1.14519.5.2.1.4429.7055.295423364175091911131452091831': {'StudyDate': '19940112',\n",
       "  'Width': 512,\n",
       "  'Height': 512,\n",
       "  'PatientId': 'PGBM-004',\n",
       "  'slice_count': 22},\n",
       " '1.3.6.1.4.1.14519.5.2.1.4429.7055.111299569371716382165219422799': {'StudyDate': '19880512',\n",
       "  'Width': 512,\n",
       "  'Height': 512,\n",
       "  'PatientId': 'PGBM-009',\n",
       "  'slice_count': 21},\n",
       " '1.3.6.1.4.1.14519.5.2.1.4429.7055.158869091666854803918782490935': {'StudyDate': '19920505',\n",
       "  'Width': 280,\n",
       "  'Height': 320,\n",
       "  'PatientId': 'PGBM-005',\n",
       "  'slice_count': 21},\n",
       " '1.3.6.1.4.1.14519.5.2.1.4429.7055.285581607999649001090869568979': {'StudyDate': '19880512',\n",
       "  'Width': 512,\n",
       "  'Height': 512,\n",
       "  'PatientId': 'PGBM-009',\n",
       "  'slice_count': 21},\n",
       " '1.3.6.1.4.1.14519.5.2.1.4429.7055.149455479236394071679725178532': {'StudyDate': '19950329',\n",
       "  'Width': 280,\n",
       "  'Height': 320,\n",
       "  'PatientId': 'PGBM-003',\n",
       "  'slice_count': 21},\n",
       " '1.3.6.1.4.1.14519.5.2.1.4429.7055.137802635701410656176169562528': {'StudyDate': '19910103',\n",
       "  'Width': 260,\n",
       "  'Height': 320,\n",
       "  'PatientId': 'PGBM-009',\n",
       "  'slice_count': 24},\n",
       " '1.3.12.2.1107.5.2.33.37105.2015011616025092819028166.0.0.0': {'StudyDate': '20150116',\n",
       "  'Width': 448,\n",
       "  'Height': 448,\n",
       "  'PatientId': 'OPA135179',\n",
       "  'slice_count': 35},\n",
       " '1.3.6.1.4.1.14519.5.2.1.4429.7055.231116285499203734317125269666': {'StudyDate': '19930622',\n",
       "  'Width': 512,\n",
       "  'Height': 512,\n",
       "  'PatientId': 'PGBM-004',\n",
       "  'slice_count': 21},\n",
       " '1.3.6.1.4.1.14519.5.2.1.4429.7055.874630167789792163807785802052': {'StudyDate': '19951017',\n",
       "  'Width': 512,\n",
       "  'Height': 512,\n",
       "  'PatientId': 'PGBM-003',\n",
       "  'slice_count': 23},\n",
       " '1.3.6.1.4.1.14519.5.2.1.4429.7055.250698293053013179878447218670': {'StudyDate': '19950329',\n",
       "  'Width': 280,\n",
       "  'Height': 320,\n",
       "  'PatientId': 'PGBM-003',\n",
       "  'slice_count': 21},\n",
       " '1.3.6.1.4.1.14519.5.2.1.4429.7055.211130119213590294311880514408': {'StudyDate': '19910103',\n",
       "  'Width': 260,\n",
       "  'Height': 320,\n",
       "  'PatientId': 'PGBM-009',\n",
       "  'slice_count': 24},\n",
       " '1.3.6.1.4.1.14519.5.2.1.4429.7055.276770677201759689184680286476': {'StudyDate': '19910702',\n",
       "  'Width': 260,\n",
       "  'Height': 320,\n",
       "  'PatientId': 'PGBM-005',\n",
       "  'slice_count': 23},\n",
       " '1.3.6.1.4.1.14519.5.2.1.4429.7055.290881399408626464415134513575': {'StudyDate': '19930622',\n",
       "  'Width': 512,\n",
       "  'Height': 512,\n",
       "  'PatientId': 'PGBM-004',\n",
       "  'slice_count': 21},\n",
       " '1.3.6.1.4.1.14519.5.2.1.4429.7055.148342356080268980546237840587': {'StudyDate': '19920505',\n",
       "  'Width': 280,\n",
       "  'Height': 320,\n",
       "  'PatientId': 'PGBM-005',\n",
       "  'slice_count': 21},\n",
       " '1.3.6.1.4.1.14519.5.2.1.4429.7055.214279913601315478068344395213': {'StudyDate': '19910103',\n",
       "  'Width': 260,\n",
       "  'Height': 320,\n",
       "  'PatientId': 'PGBM-009',\n",
       "  'slice_count': 24},\n",
       " '1.3.6.1.4.1.14519.5.2.1.4429.7055.732954519300668202085572772042': {'StudyDate': '19920505',\n",
       "  'Width': 280,\n",
       "  'Height': 320,\n",
       "  'PatientId': 'PGBM-005',\n",
       "  'slice_count': 21},\n",
       " '1.3.6.1.4.1.14519.5.2.1.4429.7055.201921745402287812448748810010': {'StudyDate': '19930622',\n",
       "  'Width': 512,\n",
       "  'Height': 512,\n",
       "  'PatientId': 'PGBM-004',\n",
       "  'slice_count': 21},\n",
       " '1.3.6.1.4.1.14519.5.2.1.4429.7055.283146136537679072065477030736': {'StudyDate': '19940112',\n",
       "  'Width': 512,\n",
       "  'Height': 512,\n",
       "  'PatientId': 'PGBM-004',\n",
       "  'slice_count': 22},\n",
       " '1.3.6.1.4.1.14519.5.2.1.4429.7055.223133215495128411564518210326': {'StudyDate': '19940112',\n",
       "  'Width': 512,\n",
       "  'Height': 512,\n",
       "  'PatientId': 'PGBM-004',\n",
       "  'slice_count': 22},\n",
       " '1.3.6.1.4.1.14519.5.2.1.4429.7055.249332750522009823872986282200': {'StudyDate': '19951017',\n",
       "  'Width': 512,\n",
       "  'Height': 512,\n",
       "  'PatientId': 'PGBM-003',\n",
       "  'slice_count': 23},\n",
       " '1.3.6.1.4.1.14519.5.2.1.4429.7055.293816446347585254079913156086': {'StudyDate': '19951017',\n",
       "  'Width': 512,\n",
       "  'Height': 512,\n",
       "  'PatientId': 'PGBM-003',\n",
       "  'slice_count': 23},\n",
       " '1.3.6.1.4.1.14519.5.2.1.4429.7055.338954569012020140657951382116': {'StudyDate': '19930622',\n",
       "  'Width': 512,\n",
       "  'Height': 512,\n",
       "  'PatientId': 'PGBM-004',\n",
       "  'slice_count': 21},\n",
       " '1.3.6.1.4.1.14519.5.2.1.4429.7055.165843183220097757648432257390': {'StudyDate': '19910702',\n",
       "  'Width': 260,\n",
       "  'Height': 320,\n",
       "  'PatientId': 'PGBM-005',\n",
       "  'slice_count': 23},\n",
       " '1.3.6.1.4.1.14519.5.2.1.4429.7055.131971402732874033229609248302': {'StudyDate': '19880512',\n",
       "  'Width': 512,\n",
       "  'Height': 512,\n",
       "  'PatientId': 'PGBM-009',\n",
       "  'slice_count': 21},\n",
       " '1.3.6.1.4.1.14519.5.2.1.4429.7055.728364200801418237396977783812': {'StudyDate': '19940112',\n",
       "  'Width': 512,\n",
       "  'Height': 512,\n",
       "  'PatientId': 'PGBM-004',\n",
       "  'slice_count': 22}}"
      ]
     },
     "execution_count": 22,
     "metadata": {},
     "output_type": "execute_result"
    }
   ],
   "source": [
    "volumes"
   ]
  },
  {
   "cell_type": "code",
   "execution_count": 23,
   "metadata": {},
   "outputs": [
    {
     "name": "stdout",
     "output_type": "stream",
     "text": [
      "260x320x23  \n",
      "512x512x138  \n",
      "260x320x23  \n",
      "280x320x21  \n",
      "280x320x21  \n",
      "280x320x21  \n",
      "512x512x23  \n",
      "512x512x22  \n",
      "512x512x21  \n",
      "280x320x21  \n",
      "512x512x21  \n",
      "280x320x21  \n",
      "260x320x24  \n",
      "448x448x35  \n",
      "512x512x21  \n",
      "512x512x23  \n",
      "280x320x21  \n",
      "260x320x24  \n",
      "260x320x23  \n",
      "512x512x21  \n",
      "280x320x21  \n",
      "260x320x24  \n",
      "280x320x21  \n",
      "512x512x21  \n",
      "512x512x22  \n",
      "512x512x22  \n",
      "512x512x23  \n",
      "512x512x23  \n",
      "512x512x21  \n",
      "260x320x23  \n",
      "512x512x21  \n",
      "512x512x22  \n"
     ]
    }
   ],
   "source": [
    "# Or, more concisely:\n",
    "for _,v in volumes.items():\n",
    "    print(f\"{v['Width']}x{v['Height']}x{v['slice_count']}  \")"
   ]
  },
  {
   "cell_type": "markdown",
   "metadata": {},
   "source": [
    "# Answers\n",
    "So, to summarize, here are the answers to our questions and solutions to our tasks:\n",
    "\n",
    "1) What imaging modality was used to produce this dataset? </br>\n",
    "</br> Mostly MRI, one CT\n",
    "\n",
    "2) Data from how many patients does the dataset include?</br>\n",
    "</br> 6 patients\n",
    "\n",
    "3) How many studies are in the dataset? </br>\n",
    "</br> 10 studies\n",
    "\n",
    "4) What are the oldest and the most recent studies in the dataset? </br>\n",
    "</br> The oldest study is May 12, 1988, most recent one is Jan 1 2019\n",
    "\n",
    "5) How many series are in the dataset?</br>\n",
    "</br> There are 32 series\n",
    "\n",
    "6) List voxel dimensions of all 3D volumes (i.e. series) that the dataset contains as WxHxD </br>\n",
    "</br> 512x512x138\n",
    "\n",
    "448x448x35</br>\n",
    "280x320x21</br>\n",
    "280x320x21</br>\n",
    "280x320x21</br>\n",
    "280x320x21</br>\n",
    "512x512x23</br>\n",
    "512x512x23</br>\n",
    "512x512x23</br>\n",
    "512x512x23</br>\n",
    "512x512x22</br>\n",
    "512x512x22</br>\n",
    "512x512x22</br>\n",
    "512x512x22</br>\n",
    "512x512x21</br>\n",
    "512x512x21</br>\n",
    "512x512x21</br>\n",
    "512x512x21</br>\n",
    "280x320x21</br>\n",
    "280x320x21</br>\n",
    "280x320x21</br>\n",
    "280x320x21</br>\n",
    "260x320x23</br>\n",
    "260x320x23</br>\n",
    "260x320x23</br>\n",
    "260x320x23</br>\n",
    "260x320x24</br>\n",
    "260x320x24</br>\n",
    "260x320x24</br>\n",
    "512x512x21</br>\n",
    "512x512x21</br>\n",
    "512x512x21</br>\n",
    "\n",
    "7) The dataset contains two outliers. Can you find them? There is more than one way to find them. Type up why do you think these volumes are outliers and what approach you used. </br>\n",
    "</br> We have two series:\n",
    "\n",
    "Series UID 1.2.826.0.1.3680043.2.1125.1.45859137663006505718300393375464286: that is a CT series, and a different anatomy </br>\n",
    "Series UID 1.3.12.2.1107.5.2.33.37105.2015011616025092819028166.0.0.0: that is very different data range, and looks like different anatomy"
   ]
  },
  {
   "cell_type": "code",
   "execution_count": null,
   "metadata": {},
   "outputs": [],
   "source": []
  },
  {
   "cell_type": "code",
   "execution_count": null,
   "metadata": {},
   "outputs": [],
   "source": []
  },
  {
   "cell_type": "code",
   "execution_count": null,
   "metadata": {},
   "outputs": [],
   "source": []
  },
  {
   "cell_type": "code",
   "execution_count": null,
   "metadata": {},
   "outputs": [],
   "source": []
  },
  {
   "cell_type": "code",
   "execution_count": null,
   "metadata": {},
   "outputs": [],
   "source": []
  },
  {
   "cell_type": "code",
   "execution_count": null,
   "metadata": {},
   "outputs": [],
   "source": []
  },
  {
   "cell_type": "code",
   "execution_count": null,
   "metadata": {},
   "outputs": [],
   "source": []
  },
  {
   "cell_type": "code",
   "execution_count": null,
   "metadata": {},
   "outputs": [],
   "source": []
  },
  {
   "cell_type": "code",
   "execution_count": null,
   "metadata": {},
   "outputs": [],
   "source": []
  },
  {
   "cell_type": "code",
   "execution_count": null,
   "metadata": {},
   "outputs": [],
   "source": []
  },
  {
   "cell_type": "code",
   "execution_count": null,
   "metadata": {},
   "outputs": [],
   "source": []
  },
  {
   "cell_type": "code",
   "execution_count": null,
   "metadata": {},
   "outputs": [],
   "source": []
  },
  {
   "cell_type": "code",
   "execution_count": null,
   "metadata": {},
   "outputs": [],
   "source": []
  },
  {
   "cell_type": "code",
   "execution_count": null,
   "metadata": {},
   "outputs": [],
   "source": []
  },
  {
   "cell_type": "code",
   "execution_count": null,
   "metadata": {},
   "outputs": [],
   "source": []
  },
  {
   "cell_type": "code",
   "execution_count": null,
   "metadata": {},
   "outputs": [],
   "source": []
  },
  {
   "cell_type": "code",
   "execution_count": null,
   "metadata": {},
   "outputs": [],
   "source": []
  },
  {
   "cell_type": "code",
   "execution_count": null,
   "metadata": {},
   "outputs": [],
   "source": []
  },
  {
   "cell_type": "code",
   "execution_count": null,
   "metadata": {},
   "outputs": [],
   "source": []
  },
  {
   "cell_type": "code",
   "execution_count": null,
   "metadata": {},
   "outputs": [],
   "source": []
  },
  {
   "cell_type": "code",
   "execution_count": null,
   "metadata": {},
   "outputs": [],
   "source": []
  },
  {
   "cell_type": "code",
   "execution_count": null,
   "metadata": {},
   "outputs": [],
   "source": []
  },
  {
   "cell_type": "code",
   "execution_count": null,
   "metadata": {},
   "outputs": [],
   "source": []
  },
  {
   "cell_type": "code",
   "execution_count": null,
   "metadata": {},
   "outputs": [],
   "source": []
  },
  {
   "cell_type": "code",
   "execution_count": null,
   "metadata": {},
   "outputs": [],
   "source": []
  },
  {
   "cell_type": "code",
   "execution_count": null,
   "metadata": {},
   "outputs": [],
   "source": []
  },
  {
   "cell_type": "code",
   "execution_count": null,
   "metadata": {},
   "outputs": [],
   "source": []
  },
  {
   "cell_type": "code",
   "execution_count": null,
   "metadata": {},
   "outputs": [],
   "source": []
  },
  {
   "cell_type": "code",
   "execution_count": null,
   "metadata": {},
   "outputs": [],
   "source": []
  },
  {
   "cell_type": "code",
   "execution_count": null,
   "metadata": {},
   "outputs": [],
   "source": []
  },
  {
   "cell_type": "code",
   "execution_count": null,
   "metadata": {},
   "outputs": [],
   "source": []
  },
  {
   "cell_type": "code",
   "execution_count": null,
   "metadata": {},
   "outputs": [],
   "source": []
  },
  {
   "cell_type": "code",
   "execution_count": null,
   "metadata": {},
   "outputs": [],
   "source": []
  },
  {
   "cell_type": "code",
   "execution_count": null,
   "metadata": {},
   "outputs": [],
   "source": []
  },
  {
   "cell_type": "code",
   "execution_count": null,
   "metadata": {},
   "outputs": [],
   "source": []
  },
  {
   "cell_type": "code",
   "execution_count": null,
   "metadata": {},
   "outputs": [],
   "source": []
  },
  {
   "cell_type": "code",
   "execution_count": null,
   "metadata": {},
   "outputs": [],
   "source": []
  },
  {
   "cell_type": "code",
   "execution_count": null,
   "metadata": {},
   "outputs": [],
   "source": []
  },
  {
   "cell_type": "code",
   "execution_count": null,
   "metadata": {},
   "outputs": [],
   "source": []
  },
  {
   "cell_type": "code",
   "execution_count": null,
   "metadata": {},
   "outputs": [],
   "source": []
  },
  {
   "cell_type": "code",
   "execution_count": null,
   "metadata": {},
   "outputs": [],
   "source": []
  },
  {
   "cell_type": "code",
   "execution_count": null,
   "metadata": {},
   "outputs": [],
   "source": []
  },
  {
   "cell_type": "code",
   "execution_count": null,
   "metadata": {},
   "outputs": [],
   "source": []
  },
  {
   "cell_type": "code",
   "execution_count": null,
   "metadata": {},
   "outputs": [],
   "source": []
  },
  {
   "cell_type": "code",
   "execution_count": null,
   "metadata": {},
   "outputs": [],
   "source": []
  },
  {
   "cell_type": "code",
   "execution_count": null,
   "metadata": {},
   "outputs": [],
   "source": []
  },
  {
   "cell_type": "code",
   "execution_count": null,
   "metadata": {},
   "outputs": [],
   "source": []
  },
  {
   "cell_type": "code",
   "execution_count": null,
   "metadata": {},
   "outputs": [],
   "source": []
  },
  {
   "cell_type": "code",
   "execution_count": null,
   "metadata": {},
   "outputs": [],
   "source": []
  },
  {
   "cell_type": "code",
   "execution_count": null,
   "metadata": {},
   "outputs": [],
   "source": []
  },
  {
   "cell_type": "code",
   "execution_count": null,
   "metadata": {},
   "outputs": [],
   "source": []
  },
  {
   "cell_type": "code",
   "execution_count": null,
   "metadata": {},
   "outputs": [],
   "source": []
  },
  {
   "cell_type": "code",
   "execution_count": null,
   "metadata": {},
   "outputs": [],
   "source": []
  },
  {
   "cell_type": "code",
   "execution_count": null,
   "metadata": {},
   "outputs": [],
   "source": []
  },
  {
   "cell_type": "code",
   "execution_count": null,
   "metadata": {},
   "outputs": [],
   "source": []
  },
  {
   "cell_type": "code",
   "execution_count": null,
   "metadata": {},
   "outputs": [],
   "source": []
  },
  {
   "cell_type": "code",
   "execution_count": null,
   "metadata": {},
   "outputs": [],
   "source": []
  },
  {
   "cell_type": "code",
   "execution_count": null,
   "metadata": {},
   "outputs": [],
   "source": []
  },
  {
   "cell_type": "code",
   "execution_count": null,
   "metadata": {},
   "outputs": [],
   "source": []
  },
  {
   "cell_type": "code",
   "execution_count": null,
   "metadata": {},
   "outputs": [],
   "source": []
  },
  {
   "cell_type": "code",
   "execution_count": null,
   "metadata": {},
   "outputs": [],
   "source": []
  },
  {
   "cell_type": "code",
   "execution_count": null,
   "metadata": {},
   "outputs": [],
   "source": []
  },
  {
   "cell_type": "code",
   "execution_count": null,
   "metadata": {},
   "outputs": [],
   "source": []
  },
  {
   "cell_type": "code",
   "execution_count": null,
   "metadata": {},
   "outputs": [],
   "source": []
  },
  {
   "cell_type": "code",
   "execution_count": null,
   "metadata": {},
   "outputs": [],
   "source": []
  },
  {
   "cell_type": "code",
   "execution_count": null,
   "metadata": {},
   "outputs": [],
   "source": []
  },
  {
   "cell_type": "code",
   "execution_count": null,
   "metadata": {},
   "outputs": [],
   "source": []
  },
  {
   "cell_type": "code",
   "execution_count": null,
   "metadata": {},
   "outputs": [],
   "source": []
  },
  {
   "cell_type": "code",
   "execution_count": null,
   "metadata": {},
   "outputs": [],
   "source": []
  },
  {
   "cell_type": "code",
   "execution_count": null,
   "metadata": {},
   "outputs": [],
   "source": []
  },
  {
   "cell_type": "code",
   "execution_count": null,
   "metadata": {},
   "outputs": [],
   "source": []
  },
  {
   "cell_type": "code",
   "execution_count": null,
   "metadata": {},
   "outputs": [],
   "source": []
  },
  {
   "cell_type": "code",
   "execution_count": null,
   "metadata": {},
   "outputs": [],
   "source": []
  },
  {
   "cell_type": "code",
   "execution_count": null,
   "metadata": {},
   "outputs": [],
   "source": []
  },
  {
   "cell_type": "code",
   "execution_count": null,
   "metadata": {},
   "outputs": [],
   "source": []
  },
  {
   "cell_type": "code",
   "execution_count": null,
   "metadata": {},
   "outputs": [],
   "source": []
  },
  {
   "cell_type": "code",
   "execution_count": null,
   "metadata": {},
   "outputs": [],
   "source": []
  },
  {
   "cell_type": "code",
   "execution_count": null,
   "metadata": {},
   "outputs": [],
   "source": []
  },
  {
   "cell_type": "code",
   "execution_count": null,
   "metadata": {},
   "outputs": [],
   "source": []
  },
  {
   "cell_type": "code",
   "execution_count": null,
   "metadata": {},
   "outputs": [],
   "source": []
  },
  {
   "cell_type": "code",
   "execution_count": null,
   "metadata": {},
   "outputs": [],
   "source": []
  },
  {
   "cell_type": "code",
   "execution_count": null,
   "metadata": {},
   "outputs": [],
   "source": []
  },
  {
   "cell_type": "code",
   "execution_count": null,
   "metadata": {},
   "outputs": [],
   "source": []
  },
  {
   "cell_type": "code",
   "execution_count": null,
   "metadata": {},
   "outputs": [],
   "source": []
  },
  {
   "cell_type": "code",
   "execution_count": null,
   "metadata": {},
   "outputs": [],
   "source": []
  },
  {
   "cell_type": "code",
   "execution_count": null,
   "metadata": {},
   "outputs": [],
   "source": []
  },
  {
   "cell_type": "code",
   "execution_count": null,
   "metadata": {},
   "outputs": [],
   "source": []
  },
  {
   "cell_type": "code",
   "execution_count": null,
   "metadata": {},
   "outputs": [],
   "source": []
  },
  {
   "cell_type": "code",
   "execution_count": null,
   "metadata": {},
   "outputs": [],
   "source": []
  }
 ],
 "metadata": {
  "kernelspec": {
   "display_name": "Python 3",
   "language": "python",
   "name": "python3"
  },
  "language_info": {
   "codemirror_mode": {
    "name": "ipython",
    "version": 3
   },
   "file_extension": ".py",
   "mimetype": "text/x-python",
   "name": "python",
   "nbconvert_exporter": "python",
   "pygments_lexer": "ipython3",
   "version": "3.7.6"
  }
 },
 "nbformat": 4,
 "nbformat_minor": 4
}
