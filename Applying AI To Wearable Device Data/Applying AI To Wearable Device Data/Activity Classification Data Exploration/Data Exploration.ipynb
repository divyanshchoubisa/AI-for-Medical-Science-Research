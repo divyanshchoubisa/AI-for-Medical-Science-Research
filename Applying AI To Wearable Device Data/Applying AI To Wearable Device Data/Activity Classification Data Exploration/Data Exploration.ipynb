{
 "cells": [
  {
   "cell_type": "markdown",
   "metadata": {},
   "source": [
    "### Imports"
   ]
  },
  {
   "cell_type": "code",
   "execution_count": 1,
   "metadata": {},
   "outputs": [],
   "source": [
    "import collections\n",
    "import glob\n",
    "import os\n",
    "\n",
    "from matplotlib import pyplot as plt\n",
    "import numpy as np\n",
    "import pandas as pd\n",
    "import scipy as sp\n",
    "import scipy.signal"
   ]
  },
  {
   "cell_type": "markdown",
   "metadata": {},
   "source": [
    "### Examine Filenames"
   ]
  },
  {
   "cell_type": "code",
   "execution_count": 2,
   "metadata": {},
   "outputs": [],
   "source": [
    "data_dir = 'data'\n",
    "filenames = [os.path.splitext(f)[0] for f in sorted(os.listdir(data_dir))]\n",
    "fs = 256"
   ]
  },
  {
   "cell_type": "markdown",
   "metadata": {},
   "source": [
    "We have 17 files, but don't really know what's in them or how much data is in each file"
   ]
  },
  {
   "cell_type": "code",
   "execution_count": 3,
   "metadata": {},
   "outputs": [
    {
     "data": {
      "text/plain": [
       "17"
      ]
     },
     "execution_count": 3,
     "metadata": {},
     "output_type": "execute_result"
    }
   ],
   "source": [
    "len(filenames)"
   ]
  },
  {
   "cell_type": "markdown",
   "metadata": {},
   "source": [
    "Files are organized by subject_activity.  \n",
    "Some subjects have two bike datasets  \n",
    "First 2 subjects have no run  \n",
    "S3 is the only one that has all 4 classes  \n",
    "S4 and S5 only have run  \n",
    "S6 and S8 don't have bike  \n",
    "S9 only has walk  "
   ]
  },
  {
   "cell_type": "code",
   "execution_count": 4,
   "metadata": {},
   "outputs": [
    {
     "data": {
      "text/plain": [
       "['s1_bike_0',\n",
       " 's1_bike_1',\n",
       " 's1_walk',\n",
       " 's2_bike_0',\n",
       " 's2_bike_1',\n",
       " 's2_walk',\n",
       " 's3_bike_0',\n",
       " 's3_bike_1',\n",
       " 's3_run',\n",
       " 's3_walk',\n",
       " 's4_run',\n",
       " 's5_run',\n",
       " 's6_run',\n",
       " 's6_walk',\n",
       " 's8_run',\n",
       " 's8_walk',\n",
       " 's9_walk']"
      ]
     },
     "execution_count": 4,
     "metadata": {},
     "output_type": "execute_result"
    }
   ],
   "source": [
    "filenames "
   ]
  },
  {
   "cell_type": "markdown",
   "metadata": {},
   "source": [
    "Right away we learn that there is some imbalance in terms of number the representation of each class per subject. This is going to cause some trouble with leave-one-subject-out cross validation."
   ]
  },
  {
   "cell_type": "code",
   "execution_count": 5,
   "metadata": {},
   "outputs": [],
   "source": [
    "subjects_per_class = collections.defaultdict(set)\n",
    "for f in filenames:\n",
    "    subject = f.split('_')[0]\n",
    "    activity = f.split('_')[1]\n",
    "    subjects_per_class[activity].add(subject)"
   ]
  },
  {
   "cell_type": "markdown",
   "metadata": {},
   "source": [
    "There's also some imbalance in terms of number of subjects per class. For the practicalities of ML, what matters more is imbalance in terms of number of samples per class. If that is unbalanced then our models could be biased towards the class that occurs more often in the training set. Fewer subjects, however, means that we will see less subject-induced variability in the training data."
   ]
  },
  {
   "cell_type": "code",
   "execution_count": 6,
   "metadata": {
    "scrolled": true
   },
   "outputs": [
    {
     "data": {
      "text/plain": [
       "{'bike': 3, 'walk': 6, 'run': 5}"
      ]
     },
     "execution_count": 6,
     "metadata": {},
     "output_type": "execute_result"
    }
   ],
   "source": [
    "{k: len(v) for k, v in subjects_per_class.items()}"
   ]
  },
  {
   "cell_type": "markdown",
   "metadata": {},
   "source": [
    "### Load the data"
   ]
  },
  {
   "cell_type": "code",
   "execution_count": 7,
   "metadata": {},
   "outputs": [],
   "source": [
    "data = []\n",
    "for f in filenames:\n",
    "    subject = f.split('_')[0]\n",
    "    activity = f.split('_')[1]\n",
    "    path = os.path.join(data_dir, f + '.csv')\n",
    "    df = pd.read_csv(path)\n",
    "    df = df.loc[: df.last_valid_index()]\n",
    "    data.append((subject, activity, df))"
   ]
  },
  {
   "cell_type": "code",
   "execution_count": 8,
   "metadata": {},
   "outputs": [
    {
     "data": {
      "text/html": [
       "<div>\n",
       "<style scoped>\n",
       "    .dataframe tbody tr th:only-of-type {\n",
       "        vertical-align: middle;\n",
       "    }\n",
       "\n",
       "    .dataframe tbody tr th {\n",
       "        vertical-align: top;\n",
       "    }\n",
       "\n",
       "    .dataframe thead th {\n",
       "        text-align: right;\n",
       "    }\n",
       "</style>\n",
       "<table border=\"1\" class=\"dataframe\">\n",
       "  <thead>\n",
       "    <tr style=\"text-align: right;\">\n",
       "      <th></th>\n",
       "      <th>accx</th>\n",
       "      <th>accy</th>\n",
       "      <th>accz</th>\n",
       "    </tr>\n",
       "  </thead>\n",
       "  <tbody>\n",
       "    <tr>\n",
       "      <th>0</th>\n",
       "      <td>3.791152</td>\n",
       "      <td>-9.329793</td>\n",
       "      <td>1.622757</td>\n",
       "    </tr>\n",
       "    <tr>\n",
       "      <th>1</th>\n",
       "      <td>3.791152</td>\n",
       "      <td>-9.329285</td>\n",
       "      <td>1.646969</td>\n",
       "    </tr>\n",
       "    <tr>\n",
       "      <th>2</th>\n",
       "      <td>3.791366</td>\n",
       "      <td>-9.304383</td>\n",
       "      <td>1.695834</td>\n",
       "    </tr>\n",
       "    <tr>\n",
       "      <th>3</th>\n",
       "      <td>3.767274</td>\n",
       "      <td>-9.267029</td>\n",
       "      <td>1.732482</td>\n",
       "    </tr>\n",
       "    <tr>\n",
       "      <th>4</th>\n",
       "      <td>3.780279</td>\n",
       "      <td>-9.194481</td>\n",
       "      <td>1.770231</td>\n",
       "    </tr>\n",
       "  </tbody>\n",
       "</table>\n",
       "</div>"
      ],
      "text/plain": [
       "       accx      accy      accz\n",
       "0  3.791152 -9.329793  1.622757\n",
       "1  3.791152 -9.329285  1.646969\n",
       "2  3.791366 -9.304383  1.695834\n",
       "3  3.767274 -9.267029  1.732482\n",
       "4  3.780279 -9.194481  1.770231"
      ]
     },
     "execution_count": 8,
     "metadata": {},
     "output_type": "execute_result"
    }
   ],
   "source": [
    "df.head()"
   ]
  },
  {
   "cell_type": "code",
   "execution_count": 9,
   "metadata": {},
   "outputs": [
    {
     "data": {
      "text/plain": [
       "3.65"
      ]
     },
     "execution_count": 9,
     "metadata": {},
     "output_type": "execute_result"
    }
   ],
   "source": [
    "df.shape[0] / fs / 60"
   ]
  },
  {
   "cell_type": "code",
   "execution_count": 10,
   "metadata": {},
   "outputs": [],
   "source": [
    "samples_per_class = collections.defaultdict(int)\n",
    "for subject, activity, df in data:\n",
    "    samples_per_class[activity] += len(df)"
   ]
  },
  {
   "cell_type": "markdown",
   "metadata": {},
   "source": [
    "Plot the number of datapoints per class to get a better idea of the class imbalance."
   ]
  },
  {
   "cell_type": "code",
   "execution_count": 11,
   "metadata": {},
   "outputs": [],
   "source": [
    "%matplotlib inline"
   ]
  },
  {
   "cell_type": "code",
   "execution_count": 12,
   "metadata": {},
   "outputs": [
    {
     "data": {
      "image/png": "[encoded data removed]",
      "text/plain": [
       "<matplotlib.figure.Figure at 0x7f2da1dad400>"
      ]
     },
     "metadata": {
      "needs_background": "light"
     },
     "output_type": "display_data"
    }
   ],
   "source": [
    "activity, n_samples = list(zip(*samples_per_class.items()))\n",
    "plt.figure(figsize=(12, 8))\n",
    "plt.bar(range(3), n_samples)\n",
    "plt.xticks(range(3), activity);"
   ]
  },
  {
   "cell_type": "markdown",
   "metadata": {},
   "source": [
    "## Plotting the Raw Data"
   ]
  },
  {
   "cell_type": "code",
   "execution_count": 13,
   "metadata": {},
   "outputs": [],
   "source": [
    "%matplotlib inline"
   ]
  },
  {
   "cell_type": "code",
   "execution_count": 14,
   "metadata": {},
   "outputs": [
    {
     "data": {
      "text/plain": [
       "\"\\nfor subject, activity, df in sorted(data, key=lambda x: x[1]):\\n    ts = np.arange(len(df)) / fs\\n    plt.clf()\\n    plt.plot(ts, df.accx, label='x')\\n    plt.plot(ts, df.accy, label='y')\\n    plt.plot(ts, df.accz, label='z')\\n    plt.title('{}_{}'.format(subject, activity))\\n    plt.legend()\\n    plt.ylim((-25, 25))\\n    plt.draw()\\n    while not plt.waitforbuttonpress():\\n        pass\\n\""
      ]
     },
     "execution_count": 14,
     "metadata": {},
     "output_type": "execute_result"
    }
   ],
   "source": [
    "'''\n",
    "for subject, activity, df in sorted(data, key=lambda x: x[1]):\n",
    "    ts = np.arange(len(df)) / fs\n",
    "    plt.clf()\n",
    "    plt.plot(ts, df.accx, label='x')\n",
    "    plt.plot(ts, df.accy, label='y')\n",
    "    plt.plot(ts, df.accz, label='z')\n",
    "    plt.title('{}_{}'.format(subject, activity))\n",
    "    plt.legend()\n",
    "    plt.ylim((-25, 25))\n",
    "    plt.draw()\n",
    "    while not plt.waitforbuttonpress():\n",
    "        pass\n",
    "'''        "
   ]
  },
  {
   "cell_type": "code",
   "execution_count": null,
   "metadata": {},
   "outputs": [],
   "source": []
  },
  {
   "cell_type": "code",
   "execution_count": null,
   "metadata": {},
   "outputs": [],
   "source": []
  },
  {
   "cell_type": "code",
   "execution_count": null,
   "metadata": {},
   "outputs": [],
   "source": []
  },
  {
   "cell_type": "code",
   "execution_count": null,
   "metadata": {},
   "outputs": [],
   "source": []
  }
 ],
 "metadata": {
  "kernelspec": {
   "display_name": "Python 3",
   "language": "python",
   "name": "python3"
  },
  "language_info": {
   "codemirror_mode": {
    "name": "ipython",
    "version": 3
   },
   "file_extension": ".py",
   "mimetype": "text/x-python",
   "name": "python",
   "nbconvert_exporter": "python",
   "pygments_lexer": "ipython3",
   "version": "3.6.3"
  }
 },
 "nbformat": 4,
 "nbformat_minor": 2
}
