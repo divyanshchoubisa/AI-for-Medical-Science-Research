{
 "cells": [
  {
   "cell_type": "markdown",
   "metadata": {},
   "source": [
    "# Feature Extraction Continued"
   ]
  },
  {
   "cell_type": "code",
   "execution_count": 1,
   "metadata": {},
   "outputs": [],
   "source": [
    "import os\n",
    "\n",
    "import numpy as np\n",
    "import pandas as pd\n",
    "import scipy as sp\n",
    "import scipy.signal\n",
    "import scipy.stats\n",
    "\n",
    "import activity_classifier_utils"
   ]
  },
  {
   "cell_type": "markdown",
   "metadata": {},
   "source": [
    "Load the data"
   ]
  },
  {
   "cell_type": "code",
   "execution_count": 2,
   "metadata": {},
   "outputs": [],
   "source": [
    "fs = 256\n",
    "data = activity_classifier_utils.LoadWristPPGDataset()"
   ]
  },
  {
   "cell_type": "markdown",
   "metadata": {},
   "source": [
    "### Features\n",
    "Time Domain:\n",
    "* mean\n",
    "* std\n",
    "* 5, 10, 15, 20, 25 percentile\n",
    "* cross-correlation of all pairs of channels\n",
    "* total energy\n",
    "\n",
    "Frequency Domain:\n",
    "* dominant frequency\n",
    "* fraction of energy in each 1Hz bin from 0 to 6 Hz\n",
    "* spectral entropy of each channel - i'll do"
   ]
  },
  {
   "cell_type": "markdown",
   "metadata": {},
   "source": [
    "Low-pass filter at 12 Hz"
   ]
  },
  {
   "cell_type": "code",
   "execution_count": 3,
   "metadata": {},
   "outputs": [],
   "source": [
    "def LowpassFilter(signal, fs):\n",
    "    b, a = sp.signal.butter(3, 12, btype='lowpass', fs=fs)\n",
    "    return sp.signal.filtfilt(b, a, signal)"
   ]
  },
  {
   "cell_type": "markdown",
   "metadata": {},
   "source": [
    "Compute features"
   ]
  },
  {
   "cell_type": "code",
   "execution_count": 4,
   "metadata": {},
   "outputs": [],
   "source": [
    "def Featurize(accx, accy, accz, fs):\n",
    "    \"\"\"A partial featurization of the accelerometer signal.\n",
    "    \n",
    "    Args:\n",
    "        accx: (np.array) x-channel of the accelerometer.\n",
    "        accy: (np.array) y-channel of the accelerometer.\n",
    "        accz: (np.array) z-channel of the accelerometer.\n",
    "        fs: (number) the sampling rate of the accelerometer\n",
    "        \n",
    "    Returns:\n",
    "        n-tuple of accelerometer features\n",
    "    \"\"\"\n",
    "    \n",
    "    accx = LowpassFilter(accx, fs)\n",
    "    accy = LowpassFilter(accy, fs)\n",
    "    accz = LowpassFilter(accz, fs)\n",
    "    \n",
    "    # The mean of the x-channel\n",
    "    mn_x = np.mean(accx)\n",
    "\n",
    "    # The standard deviation of the x-channel\n",
    "    std_x = np.std(accx)\n",
    "\n",
    "    # The 5th percentile of the x-channel\n",
    "    p5_x = np.percentile(accx, 5)\n",
    "\n",
    "    # The pearson correlation coefficient between the x and y channels\n",
    "    corr_xy = sp.stats.pearsonr(accx, accy)[0]\n",
    "\n",
    "    # The total AC energy of the x-axis\n",
    "    energy_x = np.sum(np.square(accx - np.mean(accx)))  # np.var(accx) * len(accx)\n",
    "    \n",
    "    # Take an FFT of the signal. If the signal is too short, 0-pad it so we have at least 2046 points in the FFT.\n",
    "    fft_len = max(len(accx), 2046)\n",
    "    \n",
    "    # Create an array of frequency bins\n",
    "    freqs = np.fft.rfftfreq(fft_len, 1 / fs)\n",
    "    \n",
    "    # Take an FFT of the centered signal\n",
    "    fft_x = np.fft.rfft(accx - np.mean(accx), fft_len)\n",
    "    \n",
    "    # The frequency with the most power between 0.25 and 12 Hz\n",
    "    low_freqs = (freqs >= 0.25) & (freqs <= 12)\n",
    "    dominant_frequency_x = freqs[low_freqs][np.argmax(np.abs(fft_x)[low_freqs])]\n",
    "\n",
    "    # The fraction of energy between 2 and 3 Hz in the x-channel\n",
    "    spectral_energy_x = np.square(np.abs(fft_x))\n",
    "    energy_23_x = (np.sum(spectral_energy_x[(freqs >= 2) & (freqs <= 3)])\n",
    "                   / np.sum(spectral_energy_x))\n",
    "    \n",
    "    return (mn_x,\n",
    "            std_x,\n",
    "            p5_x,\n",
    "            corr_xy,\n",
    "            energy_x,\n",
    "            dominant_frequency_x,\n",
    "            energy_23_x)"
   ]
  },
  {
   "cell_type": "markdown",
   "metadata": {},
   "source": [
    "There are a lot of features, because we have to compute each of these for all channels. I've spared you that effort and put all the features in `activity_classifier_utils.py`. Poke through that file now to see the feature extraction code."
   ]
  },
  {
   "cell_type": "markdown",
   "metadata": {},
   "source": [
    "### Feature Extraction\n",
    "Now we can extract the features for all of our data.\n",
    "\n",
    "Train on 10 second long non-overlapping windows"
   ]
  },
  {
   "cell_type": "code",
   "execution_count": 5,
   "metadata": {},
   "outputs": [],
   "source": [
    "window_length_s = 10\n",
    "window_shift_s = 10"
   ]
  },
  {
   "cell_type": "code",
   "execution_count": 6,
   "metadata": {},
   "outputs": [],
   "source": [
    "window_length = window_length_s * fs\n",
    "window_shift = window_shift_s * fs\n",
    "labels, subjects, features = [], [], []\n",
    "for subject, activity, df in data:\n",
    "    for i in range(0, len(df) - window_length, window_shift):\n",
    "        window = df[i: i + window_length]\n",
    "        accx = window.accx.values\n",
    "        accy = window.accy.values\n",
    "        accz = window.accz.values\n",
    "        features.append(activity_classifier_utils.Featurize(accx, accy, accz, fs=fs))\n",
    "        labels.append(activity)\n",
    "        subjects.append(subject)"
   ]
  },
  {
   "cell_type": "code",
   "execution_count": 7,
   "metadata": {},
   "outputs": [],
   "source": [
    "labels = np.array(labels)\n",
    "subjects = np.array(subjects)\n",
    "features = np.array(features)"
   ]
  },
  {
   "cell_type": "code",
   "execution_count": 8,
   "metadata": {},
   "outputs": [
    {
     "data": {
      "text/plain": [
       "array(['bike', 'bike', 'bike', 'bike', 'bike', 'bike', 'bike', 'bike',\n",
       "       'bike', 'bike', 'bike', 'bike', 'bike', 'bike', 'bike', 'bike',\n",
       "       'bike', 'bike', 'bike', 'bike', 'bike', 'bike', 'bike', 'bike',\n",
       "       'bike', 'bike', 'bike', 'bike', 'bike', 'bike', 'bike', 'bike',\n",
       "       'bike', 'bike', 'bike', 'bike', 'bike', 'bike', 'bike', 'bike',\n",
       "       'bike', 'bike', 'bike', 'bike', 'bike', 'bike', 'bike', 'bike',\n",
       "       'bike', 'bike', 'bike', 'bike', 'bike', 'bike', 'bike', 'bike',\n",
       "       'bike', 'bike', 'bike', 'bike', 'bike', 'bike', 'bike', 'bike',\n",
       "       'bike', 'bike', 'bike', 'bike', 'bike', 'bike', 'bike', 'bike',\n",
       "       'bike', 'bike', 'bike', 'bike', 'bike', 'bike', 'bike', 'bike',\n",
       "       'bike', 'bike', 'bike', 'bike', 'bike', 'bike', 'bike', 'bike',\n",
       "       'bike', 'bike', 'bike', 'bike', 'bike', 'bike', 'bike', 'bike',\n",
       "       'bike', 'bike', 'bike', 'bike', 'bike', 'bike', 'bike', 'bike',\n",
       "       'bike', 'bike', 'bike', 'bike', 'bike', 'bike', 'bike', 'bike',\n",
       "       'bike', 'bike', 'bike', 'walk', 'walk', 'walk', 'walk', 'walk',\n",
       "       'walk', 'walk', 'walk', 'walk', 'walk', 'walk', 'walk', 'walk',\n",
       "       'walk', 'walk', 'walk', 'walk', 'walk', 'walk', 'walk', 'walk',\n",
       "       'walk', 'walk', 'walk', 'walk', 'walk', 'walk', 'walk', 'walk',\n",
       "       'walk', 'walk', 'walk', 'walk', 'walk', 'walk', 'walk', 'walk',\n",
       "       'walk', 'walk', 'walk', 'walk', 'walk', 'walk', 'walk', 'walk',\n",
       "       'walk', 'walk', 'walk', 'walk', 'walk', 'walk', 'walk', 'walk',\n",
       "       'walk', 'walk', 'walk', 'walk', 'walk', 'bike', 'bike', 'bike',\n",
       "       'bike', 'bike', 'bike', 'bike', 'bike', 'bike', 'bike', 'bike',\n",
       "       'bike', 'bike', 'bike', 'bike', 'bike', 'bike', 'bike', 'bike',\n",
       "       'bike', 'bike', 'bike', 'bike', 'bike', 'bike', 'bike', 'bike',\n",
       "       'bike', 'bike', 'bike', 'bike', 'bike', 'bike', 'bike', 'bike',\n",
       "       'bike', 'bike', 'bike', 'bike', 'bike', 'bike', 'bike', 'bike',\n",
       "       'bike', 'bike', 'bike', 'bike', 'bike', 'bike', 'bike', 'bike',\n",
       "       'bike', 'bike', 'bike', 'bike', 'bike', 'bike', 'bike', 'bike',\n",
       "       'bike', 'bike', 'bike', 'bike', 'bike', 'bike', 'bike', 'bike',\n",
       "       'bike', 'bike', 'bike', 'bike', 'bike', 'bike', 'bike', 'walk',\n",
       "       'walk', 'walk', 'walk', 'walk', 'walk', 'walk', 'walk', 'walk',\n",
       "       'walk', 'walk', 'walk', 'walk', 'walk', 'walk', 'walk', 'walk',\n",
       "       'walk', 'walk', 'walk', 'walk', 'walk', 'walk', 'walk', 'walk',\n",
       "       'walk', 'walk', 'walk', 'walk', 'walk', 'walk', 'walk', 'walk',\n",
       "       'walk', 'walk', 'walk', 'walk', 'walk', 'walk', 'bike', 'bike',\n",
       "       'bike', 'bike', 'bike', 'bike', 'bike', 'bike', 'bike', 'bike',\n",
       "       'bike', 'bike', 'bike', 'bike', 'bike', 'bike', 'bike', 'bike',\n",
       "       'bike', 'bike', 'bike', 'bike', 'bike', 'bike', 'bike', 'bike',\n",
       "       'bike', 'bike', 'bike', 'bike', 'bike', 'bike', 'bike', 'bike',\n",
       "       'bike', 'bike', 'bike', 'bike', 'bike', 'bike', 'bike', 'bike',\n",
       "       'bike', 'bike', 'bike', 'bike', 'bike', 'bike', 'bike', 'bike',\n",
       "       'bike', 'bike', 'bike', 'bike', 'bike', 'bike', 'run', 'run', 'run',\n",
       "       'run', 'run', 'run', 'run', 'run', 'run', 'run', 'run', 'run',\n",
       "       'run', 'run', 'run', 'run', 'run', 'run', 'run', 'run', 'run',\n",
       "       'run', 'run', 'run', 'run', 'run', 'run', 'run', 'run', 'run',\n",
       "       'walk', 'walk', 'walk', 'walk', 'walk', 'walk', 'walk', 'walk',\n",
       "       'walk', 'walk', 'walk', 'walk', 'walk', 'walk', 'walk', 'walk',\n",
       "       'walk', 'walk', 'walk', 'walk', 'walk', 'walk', 'walk', 'walk',\n",
       "       'walk', 'walk', 'walk', 'walk', 'run', 'run', 'run', 'run', 'run',\n",
       "       'run', 'run', 'run', 'run', 'run', 'run', 'run', 'run', 'run',\n",
       "       'run', 'run', 'run', 'run', 'run', 'run', 'run', 'run', 'run',\n",
       "       'run', 'run', 'run', 'run', 'run', 'run', 'run', 'run', 'run',\n",
       "       'run', 'run', 'run', 'run', 'run', 'run', 'run', 'run', 'run',\n",
       "       'run', 'run', 'run', 'run', 'run', 'run', 'run', 'run', 'run',\n",
       "       'run', 'run', 'run', 'run', 'run', 'run', 'run', 'run', 'run',\n",
       "       'run', 'run', 'run', 'run', 'run', 'run', 'run', 'run', 'run',\n",
       "       'run', 'run', 'run', 'run', 'run', 'run', 'run', 'run', 'run',\n",
       "       'run', 'run', 'run', 'run', 'run', 'run', 'run', 'run', 'run',\n",
       "       'run', 'run', 'run', 'walk', 'walk', 'walk', 'walk', 'walk', 'walk',\n",
       "       'walk', 'walk', 'walk', 'walk', 'walk', 'walk', 'walk', 'walk',\n",
       "       'walk', 'walk', 'walk', 'walk', 'walk', 'walk', 'walk', 'walk',\n",
       "       'walk', 'walk', 'walk', 'walk', 'walk', 'walk', 'walk', 'walk',\n",
       "       'walk', 'walk', 'walk', 'run', 'run', 'run', 'run', 'run', 'run',\n",
       "       'run', 'run', 'run', 'run', 'run', 'run', 'run', 'run', 'run',\n",
       "       'run', 'run', 'run', 'run', 'run', 'run', 'run', 'run', 'run',\n",
       "       'run', 'run', 'run', 'run', 'walk', 'walk', 'walk', 'walk', 'walk',\n",
       "       'walk', 'walk', 'walk', 'walk', 'walk', 'walk', 'walk', 'walk',\n",
       "       'walk', 'walk', 'walk', 'walk', 'walk', 'walk', 'walk', 'walk',\n",
       "       'walk', 'walk', 'walk', 'walk', 'walk', 'walk', 'walk', 'walk',\n",
       "       'walk', 'walk', 'walk', 'walk', 'walk', 'walk', 'walk', 'walk',\n",
       "       'walk', 'walk', 'walk', 'walk', 'walk', 'walk', 'walk', 'walk',\n",
       "       'walk', 'walk', 'walk', 'walk', 'walk', 'walk', 'walk', 'walk',\n",
       "       'walk', 'walk', 'walk', 'walk', 'walk', 'walk', 'walk', 'walk'], \n",
       "      dtype='<U4')"
      ]
     },
     "execution_count": 8,
     "metadata": {},
     "output_type": "execute_result"
    }
   ],
   "source": [
    "labels"
   ]
  },
  {
   "cell_type": "code",
   "execution_count": 9,
   "metadata": {},
   "outputs": [
    {
     "data": {
      "text/plain": [
       "array(['s1', 's1', 's1', 's1', 's1', 's1', 's1', 's1', 's1', 's1', 's1',\n",
       "       's1', 's1', 's1', 's1', 's1', 's1', 's1', 's1', 's1', 's1', 's1',\n",
       "       's1', 's1', 's1', 's1', 's1', 's1', 's1', 's1', 's1', 's1', 's1',\n",
       "       's1', 's1', 's1', 's1', 's1', 's1', 's1', 's1', 's1', 's1', 's1',\n",
       "       's1', 's1', 's1', 's1', 's1', 's1', 's1', 's1', 's1', 's1', 's1',\n",
       "       's1', 's1', 's1', 's1', 's1', 's1', 's1', 's1', 's1', 's1', 's1',\n",
       "       's1', 's1', 's1', 's1', 's1', 's1', 's1', 's1', 's1', 's1', 's1',\n",
       "       's1', 's1', 's1', 's1', 's1', 's1', 's1', 's1', 's1', 's1', 's1',\n",
       "       's1', 's1', 's1', 's1', 's1', 's1', 's1', 's1', 's1', 's1', 's1',\n",
       "       's1', 's1', 's1', 's1', 's1', 's1', 's1', 's1', 's1', 's1', 's1',\n",
       "       's1', 's1', 's1', 's1', 's1', 's1', 's1', 's1', 's1', 's1', 's1',\n",
       "       's1', 's1', 's1', 's1', 's1', 's1', 's1', 's1', 's1', 's1', 's1',\n",
       "       's1', 's1', 's1', 's1', 's1', 's1', 's1', 's1', 's1', 's1', 's1',\n",
       "       's1', 's1', 's1', 's1', 's1', 's1', 's1', 's1', 's1', 's1', 's1',\n",
       "       's1', 's1', 's1', 's1', 's1', 's1', 's1', 's1', 's1', 's1', 's1',\n",
       "       's1', 's1', 's1', 's1', 's1', 's1', 's1', 's1', 's2', 's2', 's2',\n",
       "       's2', 's2', 's2', 's2', 's2', 's2', 's2', 's2', 's2', 's2', 's2',\n",
       "       's2', 's2', 's2', 's2', 's2', 's2', 's2', 's2', 's2', 's2', 's2',\n",
       "       's2', 's2', 's2', 's2', 's2', 's2', 's2', 's2', 's2', 's2', 's2',\n",
       "       's2', 's2', 's2', 's2', 's2', 's2', 's2', 's2', 's2', 's2', 's2',\n",
       "       's2', 's2', 's2', 's2', 's2', 's2', 's2', 's2', 's2', 's2', 's2',\n",
       "       's2', 's2', 's2', 's2', 's2', 's2', 's2', 's2', 's2', 's2', 's2',\n",
       "       's2', 's2', 's2', 's2', 's2', 's2', 's2', 's2', 's2', 's2', 's2',\n",
       "       's2', 's2', 's2', 's2', 's2', 's2', 's2', 's2', 's2', 's2', 's2',\n",
       "       's2', 's2', 's2', 's2', 's2', 's2', 's2', 's2', 's2', 's2', 's2',\n",
       "       's2', 's2', 's2', 's2', 's2', 's2', 's2', 's2', 's2', 's2', 's2',\n",
       "       's3', 's3', 's3', 's3', 's3', 's3', 's3', 's3', 's3', 's3', 's3',\n",
       "       's3', 's3', 's3', 's3', 's3', 's3', 's3', 's3', 's3', 's3', 's3',\n",
       "       's3', 's3', 's3', 's3', 's3', 's3', 's3', 's3', 's3', 's3', 's3',\n",
       "       's3', 's3', 's3', 's3', 's3', 's3', 's3', 's3', 's3', 's3', 's3',\n",
       "       's3', 's3', 's3', 's3', 's3', 's3', 's3', 's3', 's3', 's3', 's3',\n",
       "       's3', 's3', 's3', 's3', 's3', 's3', 's3', 's3', 's3', 's3', 's3',\n",
       "       's3', 's3', 's3', 's3', 's3', 's3', 's3', 's3', 's3', 's3', 's3',\n",
       "       's3', 's3', 's3', 's3', 's3', 's3', 's3', 's3', 's3', 's3', 's3',\n",
       "       's3', 's3', 's3', 's3', 's3', 's3', 's3', 's3', 's3', 's3', 's3',\n",
       "       's3', 's3', 's3', 's3', 's3', 's3', 's3', 's3', 's3', 's3', 's3',\n",
       "       's3', 's3', 's3', 's3', 's4', 's4', 's4', 's4', 's4', 's4', 's4',\n",
       "       's4', 's4', 's4', 's4', 's4', 's4', 's4', 's4', 's4', 's4', 's4',\n",
       "       's4', 's4', 's4', 's4', 's4', 's4', 's4', 's4', 's4', 's4', 's4',\n",
       "       's5', 's5', 's5', 's5', 's5', 's5', 's5', 's5', 's5', 's5', 's5',\n",
       "       's5', 's5', 's5', 's5', 's5', 's5', 's5', 's5', 's5', 's5', 's5',\n",
       "       's5', 's5', 's5', 's5', 's5', 's5', 's5', 's5', 's6', 's6', 's6',\n",
       "       's6', 's6', 's6', 's6', 's6', 's6', 's6', 's6', 's6', 's6', 's6',\n",
       "       's6', 's6', 's6', 's6', 's6', 's6', 's6', 's6', 's6', 's6', 's6',\n",
       "       's6', 's6', 's6', 's6', 's6', 's6', 's6', 's6', 's6', 's6', 's6',\n",
       "       's6', 's6', 's6', 's6', 's6', 's6', 's6', 's6', 's6', 's6', 's6',\n",
       "       's6', 's6', 's6', 's6', 's6', 's6', 's6', 's6', 's6', 's6', 's6',\n",
       "       's6', 's6', 's6', 's6', 's6', 's8', 's8', 's8', 's8', 's8', 's8',\n",
       "       's8', 's8', 's8', 's8', 's8', 's8', 's8', 's8', 's8', 's8', 's8',\n",
       "       's8', 's8', 's8', 's8', 's8', 's8', 's8', 's8', 's8', 's8', 's8',\n",
       "       's8', 's8', 's8', 's8', 's8', 's8', 's8', 's8', 's8', 's8', 's8',\n",
       "       's8', 's8', 's8', 's8', 's8', 's8', 's8', 's8', 's8', 's8', 's8',\n",
       "       's8', 's8', 's8', 's8', 's8', 's8', 's8', 's8', 's8', 's8', 's8',\n",
       "       's8', 's8', 's8', 's8', 's8', 's8', 's8', 's9', 's9', 's9', 's9',\n",
       "       's9', 's9', 's9', 's9', 's9', 's9', 's9', 's9', 's9', 's9', 's9',\n",
       "       's9', 's9', 's9', 's9', 's9', 's9'], \n",
       "      dtype='<U2')"
      ]
     },
     "execution_count": 9,
     "metadata": {},
     "output_type": "execute_result"
    }
   ],
   "source": [
    "subjects"
   ]
  },
  {
   "cell_type": "code",
   "execution_count": 10,
   "metadata": {},
   "outputs": [
    {
     "data": {
      "text/plain": [
       "array([[  2.40110168e+00,  -2.99059483e+00,   8.72717885e+00, ...,\n",
       "          1.16321221e-05,   1.11805569e-05,   3.05619291e-06],\n",
       "       [  3.03492572e+00,  -3.33827911e+00,   8.42279051e+00, ...,\n",
       "          2.03001661e-04,   3.24952707e-04,   3.39696740e-04],\n",
       "       [  3.07904890e+00,  -3.80768623e+00,   8.21607074e+00, ...,\n",
       "          3.59848683e-05,   4.75947911e-05,   1.34870530e-05],\n",
       "       ..., \n",
       "       [  1.96936107e+00,  -9.78633662e+00,   1.98636938e+00, ...,\n",
       "          7.14962594e-04,   5.60870182e-04,   4.45783879e-04],\n",
       "       [  2.03930382e+00,  -9.84891847e+00,   1.69701627e+00, ...,\n",
       "          6.68844401e-04,   4.08537161e-04,   2.64580502e-04],\n",
       "       [  2.08698639e+00,  -9.87233681e+00,   1.67922576e+00, ...,\n",
       "          5.87490489e-04,   4.85761080e-04,   2.55158838e-04]])"
      ]
     },
     "execution_count": 10,
     "metadata": {},
     "output_type": "execute_result"
    }
   ],
   "source": [
    "features"
   ]
  },
  {
   "cell_type": "code",
   "execution_count": 11,
   "metadata": {},
   "outputs": [
    {
     "data": {
      "text/plain": [
       "(611, 55)"
      ]
     },
     "execution_count": 11,
     "metadata": {},
     "output_type": "execute_result"
    }
   ],
   "source": [
    "features.shape"
   ]
  },
  {
   "cell_type": "markdown",
   "metadata": {},
   "source": [
    "We started with 10 seconds of 256 Hz accelerometer data. That's 2500 samples per channel, and for three channel that's 7500 points. We've successfully reduced these 7500 points to just 55 points while hopefully retaining all the information we need to build a good classifier.\n",
    "\n",
    "Although we only have 8 subjects of data, we have 611 datapoints because each 10 second window is its own datapoint. However, our datapoints are not independent. Because there's homogeneity in how individuals do an activity, datapoints from the same person might be more similar to each other. We have to keep this in mind when we train and evaluate our model. In the next video we'll use these features to build a random forest model and classify our data."
   ]
  },
  {
   "cell_type": "code",
   "execution_count": null,
   "metadata": {},
   "outputs": [],
   "source": []
  }
 ],
 "metadata": {
  "kernelspec": {
   "display_name": "Python 3",
   "language": "python",
   "name": "python3"
  },
  "language_info": {
   "codemirror_mode": {
    "name": "ipython",
    "version": 3
   },
   "file_extension": ".py",
   "mimetype": "text/x-python",
   "name": "python",
   "nbconvert_exporter": "python",
   "pygments_lexer": "ipython3",
   "version": "3.6.3"
  }
 },
 "nbformat": 4,
 "nbformat_minor": 2
}
